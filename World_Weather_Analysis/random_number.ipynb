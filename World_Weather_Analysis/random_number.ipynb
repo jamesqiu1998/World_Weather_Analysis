{
 "cells": [
  {
   "cell_type": "code",
   "execution_count": 54,
   "id": "0125fa50",
   "metadata": {},
   "outputs": [],
   "source": [
    "import random"
   ]
  },
  {
   "cell_type": "code",
   "execution_count": 55,
   "id": "f99cd49f",
   "metadata": {},
   "outputs": [
    {
     "data": {
      "text/plain": [
       "90"
      ]
     },
     "execution_count": 55,
     "metadata": {},
     "output_type": "execute_result"
    }
   ],
   "source": [
    "random.randint(-90,90)"
   ]
  },
  {
   "cell_type": "code",
   "execution_count": 56,
   "id": "a402e149",
   "metadata": {},
   "outputs": [
    {
     "data": {
      "text/plain": [
       "0.552154986173563"
      ]
     },
     "execution_count": 56,
     "metadata": {},
     "output_type": "execute_result"
    }
   ],
   "source": [
    "random.random()"
   ]
  },
  {
   "cell_type": "code",
   "execution_count": 57,
   "id": "0962b154",
   "metadata": {},
   "outputs": [
    {
     "data": {
      "text/plain": [
       "69.12145643385733"
      ]
     },
     "execution_count": 57,
     "metadata": {},
     "output_type": "execute_result"
    }
   ],
   "source": [
    "random_number=random.randint(-90,89)+random.random()\n",
    "random_number"
   ]
  },
  {
   "cell_type": "code",
   "execution_count": 58,
   "id": "4885f8e2",
   "metadata": {},
   "outputs": [
    {
     "data": {
      "text/plain": [
       "[-19.881807449569923,\n",
       " 42.70027807924607,\n",
       " 74.31819206805476,\n",
       " -1.8838982375279703,\n",
       " 4.359004136247571,\n",
       " -84.90881026356142,\n",
       " -16.43601980751187,\n",
       " -62.40382425327131,\n",
       " 74.39281377613396,\n",
       " -4.625743261074465]"
      ]
     },
     "execution_count": 58,
     "metadata": {},
     "output_type": "execute_result"
    }
   ],
   "source": [
    "x=1\n",
    "latitudes=[]\n",
    "while x <11:\n",
    "    random_lat=random.randint(-90,89)+random.random()\n",
    "    latitudes.append(random_lat)\n",
    "    x+=1\n",
    "latitudes"
   ]
  },
  {
   "cell_type": "code",
   "execution_count": 59,
   "id": "257457b4",
   "metadata": {},
   "outputs": [
    {
     "data": {
      "text/plain": [
       "-64"
      ]
     },
     "execution_count": 59,
     "metadata": {},
     "output_type": "execute_result"
    }
   ],
   "source": [
    "random.randrange(-90,90,step=1)"
   ]
  },
  {
   "cell_type": "code",
   "execution_count": 60,
   "id": "dc02cbcc",
   "metadata": {},
   "outputs": [
    {
     "data": {
      "text/plain": [
       "60"
      ]
     },
     "execution_count": 60,
     "metadata": {},
     "output_type": "execute_result"
    }
   ],
   "source": [
    "random.randrange(-90,90,step=3)"
   ]
  },
  {
   "cell_type": "code",
   "execution_count": 61,
   "id": "8358ac8f",
   "metadata": {},
   "outputs": [
    {
     "data": {
      "text/plain": [
       "-78.82048091192692"
      ]
     },
     "execution_count": 61,
     "metadata": {},
     "output_type": "execute_result"
    }
   ],
   "source": [
    "random.uniform(-90,90)"
   ]
  },
  {
   "cell_type": "code",
   "execution_count": 8,
   "id": "d1103d62",
   "metadata": {},
   "outputs": [],
   "source": [
    "import numpy as np"
   ]
  },
  {
   "cell_type": "code",
   "execution_count": 63,
   "id": "e1661a3c",
   "metadata": {},
   "outputs": [
    {
     "data": {
      "text/plain": [
       "-35.21365606239612"
      ]
     },
     "execution_count": 63,
     "metadata": {},
     "output_type": "execute_result"
    }
   ],
   "source": [
    "np.random.uniform(-90.000,90.000)"
   ]
  },
  {
   "cell_type": "code",
   "execution_count": 64,
   "id": "a67e6508",
   "metadata": {
    "scrolled": true
   },
   "outputs": [
    {
     "data": {
      "text/plain": [
       "array([-62.74439943, -24.99355365, -14.16442075, -32.89918512,\n",
       "        71.30942336,  22.70635254, -20.71245631, -83.41988719,\n",
       "        34.65726469,  80.21680302,  86.8531287 ,  88.51603809,\n",
       "        35.82757661, -88.96936554, -43.46698857,  79.81233339,\n",
       "       -88.45465863, -70.99640793,  -7.92402261,  22.60532414,\n",
       "       -30.45924619,  60.33971444,  80.04487692, -72.1135563 ,\n",
       "         3.22254501,  14.77619495,  32.87445878,  35.3214274 ,\n",
       "        43.14656096, -21.79770996,  12.61813674, -76.85580896,\n",
       "        84.53049741, -43.3995099 ,  73.56412426, -78.65021218,\n",
       "        23.67683563, -66.89739378,  84.22584796,  69.34499001,\n",
       "        34.55946808,  78.29634433, -45.8649583 ,  52.0311636 ,\n",
       "       -29.92654101,  59.27138181,  19.45103245, -53.42646117,\n",
       "        76.13253989,   2.29012112])"
      ]
     },
     "execution_count": 64,
     "metadata": {},
     "output_type": "execute_result"
    }
   ],
   "source": [
    "np.random.uniform(-90.000, 90.000, size=50)"
   ]
  },
  {
   "cell_type": "code",
   "execution_count": 65,
   "id": "3322d280",
   "metadata": {},
   "outputs": [],
   "source": [
    "import timeit"
   ]
  },
  {
   "cell_type": "code",
   "execution_count": 66,
   "id": "6c09ef4d",
   "metadata": {},
   "outputs": [
    {
     "name": "stdout",
     "output_type": "stream",
     "text": [
      "13.6 µs ± 236 ns per loop (mean ± std. dev. of 7 runs, 100,000 loops each)\n"
     ]
    }
   ],
   "source": [
    "%timeit np.random.uniform(-90.000, 90.000, size=1500)"
   ]
  },
  {
   "cell_type": "code",
   "execution_count": 68,
   "id": "8fce5cca",
   "metadata": {},
   "outputs": [
    {
     "name": "stdout",
     "output_type": "stream",
     "text": [
      "1.36 ms ± 14.7 µs per loop (mean ± std. dev. of 7 runs, 1,000 loops each)\n"
     ]
    }
   ],
   "source": [
    "def latitude(size):\n",
    "    latitude=[]\n",
    "    \n",
    "    x=0\n",
    "    \n",
    "    while x<(size):\n",
    "        random_lat=random.randint(-90,90)+random.random()\n",
    "        latitude.append(random_lat)\n",
    "        x+=1\n",
    "    return latitude\n",
    "\n",
    "%timeit latitude(1500)"
   ]
  },
  {
   "cell_type": "code",
   "execution_count": 2,
   "id": "90107157",
   "metadata": {},
   "outputs": [],
   "source": [
    "# Import linear regression from Scipy stats module\n",
    "from scipy.stats import linregress"
   ]
  },
  {
   "cell_type": "code",
   "execution_count": 3,
   "id": "d87dd80c",
   "metadata": {},
   "outputs": [],
   "source": [
    "# Create an equal number of latitudes and temperatures.\n",
    "lats = [42.5, 43.9, 8.1, 36.8, 79.9, 69.1, 25.7, 15.3, 12.7, 64.5]\n",
    "temps = [80.5, 75.3, 90.9, 90.0, 40.4, 62.3, 85.4, 79.6, 72.5, 72.0]"
   ]
  },
  {
   "cell_type": "code",
   "execution_count": 6,
   "id": "c395d7ba",
   "metadata": {},
   "outputs": [
    {
     "name": "stdout",
     "output_type": "stream",
     "text": [
      "y= -0.45x+ 92.94\n",
      "The p-value is : 0.011\n"
     ]
    }
   ],
   "source": [
    "# Perform linear regression\n",
    "(slope,intercept,r_value,p_value,std_err)=linregress(lats,temps)\n",
    "# Get the equation of the line. \n",
    "line_eq= \"y= \" +str(round(slope,2)) + \"x+ \" + str(round(intercept,2))\n",
    "print(line_eq)\n",
    "print(f\"The p-value is : {p_value:.3f}\")"
   ]
  },
  {
   "cell_type": "code",
   "execution_count": 12,
   "id": "0efd68db",
   "metadata": {},
   "outputs": [],
   "source": [
    "# Calculate the regression line \"y value\" from the slope and intercept.\n",
    "regress_values = [(lat * slope + intercept) for lat in lats]"
   ]
  },
  {
   "cell_type": "code",
   "execution_count": 17,
   "id": "d80fce33",
   "metadata": {},
   "outputs": [
    {
     "data": {
      "image/png": "[encoded data removed]",
      "text/plain": [
       "<Figure size 432x288 with 1 Axes>"
      ]
     },
     "metadata": {
      "needs_background": "light"
     },
     "output_type": "display_data"
    }
   ],
   "source": [
    "# Import Matplotlib.\n",
    "import matplotlib.pyplot as plt\n",
    "# Create a scatter plot of the x and y values.\n",
    "plt.scatter(lats,temps)\n",
    "# Plot the regression line with the x-values and the y coordinates based on the intercept and slope.\n",
    "plt.plot(lats,regress_values,\"r\")\n",
    "# Annotate the text for the line equation and add its coordinates.\n",
    "plt.annotate(line_eq, (10,40), fontsize=15, color=\"red\")\n",
    "plt.xlabel('Latitude')\n",
    "plt.ylabel('Temp')\n",
    "plt.show()"
   ]
  },
  {
   "cell_type": "code",
   "execution_count": null,
   "id": "a87275a4",
   "metadata": {},
   "outputs": [],
   "source": []
  }
 ],
 "metadata": {
  "kernelspec": {
   "display_name": "Python 3 (ipykernel)",
   "language": "python",
   "name": "python3"
  },
  "language_info": {
   "codemirror_mode": {
    "name": "ipython",
    "version": 3
   },
   "file_extension": ".py",
   "mimetype": "text/x-python",
   "name": "python",
   "nbconvert_exporter": "python",
   "pygments_lexer": "ipython3",
   "version": "3.7.13"
  }
 },
 "nbformat": 4,
 "nbformat_minor": 5
}
